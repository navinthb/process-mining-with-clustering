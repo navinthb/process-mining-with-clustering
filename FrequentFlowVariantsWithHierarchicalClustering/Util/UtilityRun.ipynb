{
 "cells": [
  {
   "cell_type": "markdown",
   "metadata": {},
   "source": [
    "### Find a class definition within a module"
   ]
  },
  {
   "cell_type": "code",
   "execution_count": 10,
   "metadata": {},
   "outputs": [
    {
     "name": "stdout",
     "output_type": "stream",
     "text": [
      "Places where class is found:\n",
      "Found Trace class in module: pm4py.utils\n"
     ]
    }
   ],
   "source": [
    "import inspect\n",
    "import pm4py.utils as pm_utils\n",
    "\n",
    "class_name = \"Trace\"\n",
    "\n",
    "already_covered=None\n",
    "\n",
    "if already_covered is None:\n",
    "    already_covered = set()\n",
    "locations = []\n",
    "module = pm_utils\n",
    "if module.__name__ not in already_covered:\n",
    "    already_covered.add(module.__name__)\n",
    "    for name, obj in inspect.getmembers(module):\n",
    "        if inspect.isclass(obj) and obj.__name__ == class_name:\n",
    "            locations.append(f\"Found {class_name} class in module: {module.__name__}\")\n",
    "    for _, submodule in inspect.getmembers(module):\n",
    "        if inspect.ismodule(submodule) and submodule.__name__.startswith(module.__name__):\n",
    "            locations.extend(find_class_definition(class_name, submodule, already_covered))\n",
    "\n",
    "if locations:\n",
    "    print(\"Places where class is found:\")\n",
    "    for location in locations:\n",
    "        print(location)\n",
    "else:\n",
    "    print(f\"No definition of class {class_name} found\")\n",
    "    "
   ]
  },
  {
   "cell_type": "code",
   "execution_count": null,
   "metadata": {},
   "outputs": [],
   "source": [
    "location"
   ]
  }
 ],
 "metadata": {
  "kernelspec": {
   "display_name": "Python 3",
   "language": "python",
   "name": "python3"
  },
  "language_info": {
   "codemirror_mode": {
    "name": "ipython",
    "version": 3
   },
   "file_extension": ".py",
   "mimetype": "text/x-python",
   "name": "python",
   "nbconvert_exporter": "python",
   "pygments_lexer": "ipython3",
   "version": "3.11.0"
  }
 },
 "nbformat": 4,
 "nbformat_minor": 2
}
