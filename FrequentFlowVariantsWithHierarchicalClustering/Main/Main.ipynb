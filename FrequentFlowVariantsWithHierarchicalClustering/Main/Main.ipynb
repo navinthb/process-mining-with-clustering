{
 "cells": [
  {
   "cell_type": "markdown",
   "metadata": {},
   "source": [
    "## Reading Raw Event data in XES format as an Event Log ##"
   ]
  },
  {
   "cell_type": "code",
   "execution_count": 1,
   "metadata": {},
   "outputs": [
    {
     "data": {
      "application/vnd.jupyter.widget-view+json": {
       "model_id": "b4775e3ef4c54eeb94ddee6b618d80fb",
       "version_major": 2,
       "version_minor": 0
      },
      "text/plain": [
       "parsing log, completed traces ::   0%|          | 0/1143 [00:00<?, ?it/s]"
      ]
     },
     "metadata": {},
     "output_type": "display_data"
    },
    {
     "name": "stdout",
     "output_type": "stream",
     "text": [
      "Number of traces present in the full event log: 1143\n",
      "Number of events in full event log: 150291\n"
     ]
    }
   ],
   "source": [
    "import pandas as pd\n",
    "import pm4py\n",
    "from pm4py.objects.log.importer.xes import importer as xes_importer\n",
    "from pm4py.objects.conversion.log import converter as xes_converter\n",
    "\n",
    "hospital_log_all = xes_importer.apply('Data\\Hospital_log_all.xes')\n",
    "\n",
    "print(\"Number of traces present in the full event log:\", len(hospital_log_all))\n",
    "\n",
    "num_of_events = 0\n",
    "for trace in hospital_log_all:\n",
    "    num_of_events = num_of_events + len(trace)\n",
    "\n",
    "print(\"Number of events in full event log:\", num_of_events)"
   ]
  },
  {
   "cell_type": "markdown",
   "metadata": {},
   "source": [
    "## Getting a subset of the full event log based on traces ##\n",
    "\n",
    "We consider 33.3% of the traces in the full event log. This is for the ease of computation later."
   ]
  },
  {
   "cell_type": "code",
   "execution_count": 9,
   "metadata": {},
   "outputs": [
    {
     "name": "stdout",
     "output_type": "stream",
     "text": [
      "Number of traces present in the event log subset: 381\n",
      "Number of events in the event log subset: 51416\n"
     ]
    }
   ],
   "source": [
    "from Preprocessing import DivideDatasets\n",
    "\n",
    "hospital_log_initial = DivideDatasets.get_subset(hospital_log_all, 0.333)\n",
    "\n",
    "print(\"Number of traces present in the event log subset:\", len(hospital_log_initial))\n",
    "\n",
    "num_of_events = 0\n",
    "for trace in hospital_log_initial:\n",
    "     num_of_events = num_of_events + len(trace)\n",
    "\n",
    "print(\"Number of events in the event log subset:\", num_of_events)"
   ]
  }
 ],
 "metadata": {
  "kernelspec": {
   "display_name": "Python 3",
   "language": "python",
   "name": "python3"
  },
  "language_info": {
   "codemirror_mode": {
    "name": "ipython",
    "version": 3
   },
   "file_extension": ".py",
   "mimetype": "text/x-python",
   "name": "python",
   "nbconvert_exporter": "python",
   "pygments_lexer": "ipython3",
   "version": "3.11.0"
  }
 },
 "nbformat": 4,
 "nbformat_minor": 2
}
