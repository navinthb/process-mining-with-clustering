{
 "cells": [
  {
   "cell_type": "markdown",
   "metadata": {},
   "source": [
    "# Preprocessing the public Event Log"
   ]
  },
  {
   "cell_type": "markdown",
   "metadata": {},
   "source": [
    "## Reading Raw Event data in XES format as an Event Log ##"
   ]
  },
  {
   "cell_type": "code",
   "execution_count": 1,
   "metadata": {},
   "outputs": [
    {
     "data": {
      "application/vnd.jupyter.widget-view+json": {
       "model_id": "7a516bf529004130bf637f3d97c5f7e8",
       "version_major": 2,
       "version_minor": 0
      },
      "text/plain": [
       "parsing log, completed traces ::   0%|          | 0/1143 [00:00<?, ?it/s]"
      ]
     },
     "metadata": {},
     "output_type": "display_data"
    },
    {
     "name": "stdout",
     "output_type": "stream",
     "text": [
      "Number of traces present in the full event log: 1143\n",
      "Number of events in full event log: 150291\n"
     ]
    }
   ],
   "source": [
    "import pandas as pd\n",
    "import pm4py\n",
    "from pm4py.objects.log.importer.xes import importer as xes_importer\n",
    "from pm4py.objects.conversion.log import converter as xes_converter\n",
    "\n",
    "hospital_log_all = xes_importer.apply('Data\\Hospital_log_all.xes')\n",
    "\n",
    "print(\"Number of traces present in the full event log:\", len(hospital_log_all))\n",
    "\n",
    "num_of_events = 0\n",
    "for trace in hospital_log_all:\n",
    "    num_of_events = num_of_events + len(trace)\n",
    "\n",
    "print(\"Number of events in full event log:\", num_of_events)"
   ]
  },
  {
   "cell_type": "code",
   "execution_count": 7,
   "metadata": {},
   "outputs": [
    {
     "name": "stderr",
     "output_type": "stream",
     "text": [
      "C:\\Users\\User\\AppData\\Local\\Temp\\ipykernel_14660\\1477615771.py:3: DeprecationWarning: `magic(...)` is deprecated since IPython 0.13 (warning added in 8.1), use run_line_magic(magic_name, parameter_s).\n",
      "  ip.magic(\"reload_ext autoreload\")  # these will enable module autoreloading\n",
      "C:\\Users\\User\\AppData\\Local\\Temp\\ipykernel_14660\\1477615771.py:4: DeprecationWarning: `magic(...)` is deprecated since IPython 0.13 (warning added in 8.1), use run_line_magic(magic_name, parameter_s).\n",
      "  ip.magic(\"autoreload 2\")\n"
     ]
    }
   ],
   "source": [
    "#from IPython import get_ipython\n",
    "#ip = get_ipython()\n",
    "#ip.magic(\"reload_ext autoreload\")\n",
    "#ip.magic(\"autoreload 2\")"
   ]
  },
  {
   "cell_type": "markdown",
   "metadata": {},
   "source": [
    "## Getting a subset of the full event log based on traces ##\n",
    "\n",
    "We consider 33.3% of the traces in the full event log. This is for the ease of computation later."
   ]
  },
  {
   "cell_type": "code",
   "execution_count": 24,
   "metadata": {},
   "outputs": [
    {
     "name": "stdout",
     "output_type": "stream",
     "text": [
      "Number of traces present in the event log subset: 381\n",
      "Number of events in the event log subset: 51451\n"
     ]
    },
    {
     "name": "stderr",
     "output_type": "stream",
     "text": [
      "c:\\Users\\User\\AppData\\Local\\Programs\\Python\\Python311\\Lib\\site-packages\\pm4py\\utils.py:486: UserWarning: the EventLog class has been deprecated and will be removed in a future release.\n",
      "  warnings.warn(\"the EventLog class has been deprecated and will be removed in a future release.\")\n"
     ]
    },
    {
     "data": {
      "application/vnd.jupyter.widget-view+json": {
       "model_id": "e4a71ab3db8c477d8d4c2724c35a3efb",
       "version_major": 2,
       "version_minor": 0
      },
      "text/plain": [
       "exporting log, completed traces ::   0%|          | 0/381 [00:00<?, ?it/s]"
      ]
     },
     "metadata": {},
     "output_type": "display_data"
    }
   ],
   "source": [
    "from Preprocessing import DivideDatasets\n",
    "from Util import IOProvider\n",
    "\n",
    "hospital_log_initial = DivideDatasets.get_subset(hospital_log_all, 3)\n",
    "\n",
    "print(\"Number of traces present in the event log subset:\", len(hospital_log_initial))\n",
    "\n",
    "num_of_events = 0\n",
    "for trace in hospital_log_initial:\n",
    "     num_of_events = num_of_events + len(trace)\n",
    "\n",
    "print(\"Number of events in the event log subset:\", num_of_events)\n",
    "\n",
    "pm4py.write_xes(hospital_log_initial, \"Data\\Processed\\Hospital_Log_Initial.xes\")"
   ]
  }
 ],
 "metadata": {
  "kernelspec": {
   "display_name": "Python 3",
   "language": "python",
   "name": "python3"
  },
  "language_info": {
   "codemirror_mode": {
    "name": "ipython",
    "version": 3
   },
   "file_extension": ".py",
   "mimetype": "text/x-python",
   "name": "python",
   "nbconvert_exporter": "python",
   "pygments_lexer": "ipython3",
   "version": "3.11.0"
  }
 },
 "nbformat": 4,
 "nbformat_minor": 2
}
